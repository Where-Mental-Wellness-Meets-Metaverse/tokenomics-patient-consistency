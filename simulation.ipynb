{
 "cells": [
  {
   "cell_type": "markdown",
   "id": "87bb04a5",
   "metadata": {},
   "source": [
    "# Simulation: Patient Participation Tokenomics\n",
    "\n",
    "All rights reserved, unlicensed.\n",
    "\n",
    "Loads `config.json` and simulates tokens/tiers (0/3/6/9%). No PHI."
   ]
  },
  {
   "cell_type": "code",
   "execution_count": null,
   "id": "f7650224",
   "metadata": {},
   "outputs": [],
   "source": [
    "import json, math, random\n",
    "with open('config.json') as f:\n",
    "    cfg = json.load(f)\n",
    "tiers = cfg['tiers_percent']\n",
    "thr = cfg['thresholds_tokens']\n",
    "cap = cfg['cap_monthly_tokens_per_user']\n",
    "tps = cfg['token_per_session']\n",
    "pen = cfg['no_show_penalty_percent'] / 100.0\n",
    "k   = cfg['decay_k']\n",
    "months = cfg['simulation']['months']\n",
    "cohorts = cfg['simulation']['cohorts']\n",
    "pop = {name: int(1000 * cohorts[name]['size']) for name in cohorts}\n",
    "print('Population by cohort:', pop)\n"
   ]
  }
 ],
 "metadata": {},
 "nbformat": 4,
 "nbformat_minor": 5
}
